{
  "nbformat": 4,
  "nbformat_minor": 0,
  "metadata": {
    "colab": {
      "name": "Project 4.ipynb",
      "provenance": [],
      "collapsed_sections": [],
      "authorship_tag": "ABX9TyPSrON/uZ+dKKdR1et55D8N",
      "include_colab_link": true
    },
    "kernelspec": {
      "name": "python3",
      "display_name": "Python 3"
    },
    "language_info": {
      "name": "python"
    },
    "widgets": {
      "application/vnd.jupyter.widget-state+json": {
        "70468c91abe549618006952dbea7d9ac": {
          "model_module": "@jupyter-widgets/controls",
          "model_name": "VBoxModel",
          "model_module_version": "1.5.0",
          "state": {
            "_view_name": "VBoxView",
            "_dom_classes": [
              "widget-interact"
            ],
            "_model_name": "VBoxModel",
            "_view_module": "@jupyter-widgets/controls",
            "_model_module_version": "1.5.0",
            "_view_count": null,
            "_view_module_version": "1.5.0",
            "box_style": "",
            "layout": "IPY_MODEL_1a307add33634fee82f175c05da235f3",
            "_model_module": "@jupyter-widgets/controls",
            "children": [
              "IPY_MODEL_f40cd412616846a6957b127b384f8c5a",
              "IPY_MODEL_54c4d801581049cbbc393ffb95b53286",
              "IPY_MODEL_6ef400a02dc344488016c19a6e253431"
            ]
          }
        },
        "1a307add33634fee82f175c05da235f3": {
          "model_module": "@jupyter-widgets/base",
          "model_name": "LayoutModel",
          "model_module_version": "1.2.0",
          "state": {
            "_view_name": "LayoutView",
            "grid_template_rows": null,
            "right": null,
            "justify_content": null,
            "_view_module": "@jupyter-widgets/base",
            "overflow": null,
            "_model_module_version": "1.2.0",
            "_view_count": null,
            "flex_flow": null,
            "width": null,
            "min_width": null,
            "border": null,
            "align_items": null,
            "bottom": null,
            "_model_module": "@jupyter-widgets/base",
            "top": null,
            "grid_column": null,
            "overflow_y": null,
            "overflow_x": null,
            "grid_auto_flow": null,
            "grid_area": null,
            "grid_template_columns": null,
            "flex": null,
            "_model_name": "LayoutModel",
            "justify_items": null,
            "grid_row": null,
            "max_height": null,
            "align_content": null,
            "visibility": null,
            "align_self": null,
            "height": null,
            "min_height": null,
            "padding": null,
            "grid_auto_rows": null,
            "grid_gap": null,
            "max_width": null,
            "order": null,
            "_view_module_version": "1.2.0",
            "grid_template_areas": null,
            "object_position": null,
            "object_fit": null,
            "grid_auto_columns": null,
            "margin": null,
            "display": null,
            "left": null
          }
        },
        "f40cd412616846a6957b127b384f8c5a": {
          "model_module": "@jupyter-widgets/controls",
          "model_name": "IntSliderModel",
          "model_module_version": "1.5.0",
          "state": {
            "_view_name": "IntSliderView",
            "style": "IPY_MODEL_20b95bb5f3f54127a511c7ebeab0b9c7",
            "_dom_classes": [],
            "description": "n",
            "step": 1,
            "_model_name": "IntSliderModel",
            "orientation": "horizontal",
            "max": 20,
            "_view_module": "@jupyter-widgets/controls",
            "_model_module_version": "1.5.0",
            "value": 10,
            "_view_count": null,
            "disabled": false,
            "_view_module_version": "1.5.0",
            "min": 1,
            "continuous_update": true,
            "readout_format": "d",
            "description_tooltip": null,
            "readout": true,
            "_model_module": "@jupyter-widgets/controls",
            "layout": "IPY_MODEL_9817518538ec4f5c93a4e7286fd3339f"
          }
        },
        "54c4d801581049cbbc393ffb95b53286": {
          "model_module": "@jupyter-widgets/controls",
          "model_name": "TextModel",
          "model_module_version": "1.5.0",
          "state": {
            "_view_name": "TextView",
            "style": "IPY_MODEL_a7bb0a77e9ca4a3aa685ea2f39d275f0",
            "_dom_classes": [],
            "description": "new_name",
            "_model_name": "TextModel",
            "placeholder": "​",
            "_view_module": "@jupyter-widgets/controls",
            "_model_module_version": "1.5.0",
            "value": "Jim Carrey",
            "_view_count": null,
            "disabled": false,
            "_view_module_version": "1.5.0",
            "continuous_update": true,
            "description_tooltip": null,
            "_model_module": "@jupyter-widgets/controls",
            "layout": "IPY_MODEL_5724720a4e30456b9fec6dbcd299c4cc"
          }
        },
        "6ef400a02dc344488016c19a6e253431": {
          "model_module": "@jupyter-widgets/output",
          "model_name": "OutputModel",
          "model_module_version": "1.0.0",
          "state": {
            "_view_name": "OutputView",
            "msg_id": "",
            "_dom_classes": [],
            "_model_name": "OutputModel",
            "outputs": [
              {
                "output_type": "stream",
                "name": "stdout",
                "text": [
                  "Matching people like Jim Carrey...\n"
                ]
              },
              {
                "output_type": "stream",
                "name": "stdout",
                "text": [
                  "Match complete.\n"
                ]
              },
              {
                "output_type": "display_data",
                "data": {
                  "image/png": "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\n",
                  "text/plain": "<Figure size 288x43.2 with 1 Axes>"
                },
                "metadata": {
                  "needs_background": "light"
                }
              },
              {
                "output_type": "display_data",
                "data": {
                  "image/png": "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\n",
                  "text/plain": "<Figure size 288x43.2 with 1 Axes>"
                },
                "metadata": {
                  "needs_background": "light"
                }
              },
              {
                "output_type": "display_data",
                "data": {
                  "image/png": "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\n",
                  "text/plain": "<Figure size 288x43.2 with 1 Axes>"
                },
                "metadata": {
                  "needs_background": "light"
                }
              },
              {
                "output_type": "display_data",
                "data": {
                  "image/png": "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\n",
                  "text/plain": "<Figure size 288x43.2 with 1 Axes>"
                },
                "metadata": {
                  "needs_background": "light"
                }
              },
              {
                "output_type": "display_data",
                "data": {
                  "image/png": "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\n",
                  "text/plain": "<Figure size 288x43.2 with 1 Axes>"
                },
                "metadata": {
                  "needs_background": "light"
                }
              },
              {
                "output_type": "display_data",
                "data": {
                  "image/png": "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\n",
                  "text/plain": "<Figure size 288x43.2 with 1 Axes>"
                },
                "metadata": {
                  "needs_background": "light"
                }
              },
              {
                "output_type": "display_data",
                "data": {
                  "image/png": "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\n",
                  "text/plain": "<Figure size 288x43.2 with 1 Axes>"
                },
                "metadata": {
                  "needs_background": "light"
                }
              },
              {
                "output_type": "display_data",
                "data": {
                  "image/png": "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\n",
                  "text/plain": "<Figure size 288x43.2 with 1 Axes>"
                },
                "metadata": {
                  "needs_background": "light"
                }
              },
              {
                "output_type": "display_data",
                "data": {
                  "image/png": "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\n",
                  "text/plain": "<Figure size 288x43.2 with 1 Axes>"
                },
                "metadata": {
                  "needs_background": "light"
                }
              },
              {
                "output_type": "display_data",
                "data": {
                  "image/png": "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\n",
                  "text/plain": "<Figure size 288x43.2 with 1 Axes>"
                },
                "metadata": {
                  "needs_background": "light"
                }
              }
            ],
            "_view_module": "@jupyter-widgets/output",
            "_model_module_version": "1.0.0",
            "_view_count": null,
            "_view_module_version": "1.0.0",
            "layout": "IPY_MODEL_316be2245a2a42b78a5862ff8d5ba37f",
            "_model_module": "@jupyter-widgets/output"
          }
        },
        "20b95bb5f3f54127a511c7ebeab0b9c7": {
          "model_module": "@jupyter-widgets/controls",
          "model_name": "SliderStyleModel",
          "model_module_version": "1.5.0",
          "state": {
            "_view_name": "StyleView",
            "handle_color": null,
            "_model_name": "SliderStyleModel",
            "description_width": "",
            "_view_module": "@jupyter-widgets/base",
            "_model_module_version": "1.5.0",
            "_view_count": null,
            "_view_module_version": "1.2.0",
            "_model_module": "@jupyter-widgets/controls"
          }
        },
        "9817518538ec4f5c93a4e7286fd3339f": {
          "model_module": "@jupyter-widgets/base",
          "model_name": "LayoutModel",
          "model_module_version": "1.2.0",
          "state": {
            "_view_name": "LayoutView",
            "grid_template_rows": null,
            "right": null,
            "justify_content": null,
            "_view_module": "@jupyter-widgets/base",
            "overflow": null,
            "_model_module_version": "1.2.0",
            "_view_count": null,
            "flex_flow": null,
            "width": null,
            "min_width": null,
            "border": null,
            "align_items": null,
            "bottom": null,
            "_model_module": "@jupyter-widgets/base",
            "top": null,
            "grid_column": null,
            "overflow_y": null,
            "overflow_x": null,
            "grid_auto_flow": null,
            "grid_area": null,
            "grid_template_columns": null,
            "flex": null,
            "_model_name": "LayoutModel",
            "justify_items": null,
            "grid_row": null,
            "max_height": null,
            "align_content": null,
            "visibility": null,
            "align_self": null,
            "height": null,
            "min_height": null,
            "padding": null,
            "grid_auto_rows": null,
            "grid_gap": null,
            "max_width": null,
            "order": null,
            "_view_module_version": "1.2.0",
            "grid_template_areas": null,
            "object_position": null,
            "object_fit": null,
            "grid_auto_columns": null,
            "margin": null,
            "display": null,
            "left": null
          }
        },
        "a7bb0a77e9ca4a3aa685ea2f39d275f0": {
          "model_module": "@jupyter-widgets/controls",
          "model_name": "DescriptionStyleModel",
          "model_module_version": "1.5.0",
          "state": {
            "_view_name": "StyleView",
            "_model_name": "DescriptionStyleModel",
            "description_width": "",
            "_view_module": "@jupyter-widgets/base",
            "_model_module_version": "1.5.0",
            "_view_count": null,
            "_view_module_version": "1.2.0",
            "_model_module": "@jupyter-widgets/controls"
          }
        },
        "5724720a4e30456b9fec6dbcd299c4cc": {
          "model_module": "@jupyter-widgets/base",
          "model_name": "LayoutModel",
          "model_module_version": "1.2.0",
          "state": {
            "_view_name": "LayoutView",
            "grid_template_rows": null,
            "right": null,
            "justify_content": null,
            "_view_module": "@jupyter-widgets/base",
            "overflow": null,
            "_model_module_version": "1.2.0",
            "_view_count": null,
            "flex_flow": null,
            "width": null,
            "min_width": null,
            "border": null,
            "align_items": null,
            "bottom": null,
            "_model_module": "@jupyter-widgets/base",
            "top": null,
            "grid_column": null,
            "overflow_y": null,
            "overflow_x": null,
            "grid_auto_flow": null,
            "grid_area": null,
            "grid_template_columns": null,
            "flex": null,
            "_model_name": "LayoutModel",
            "justify_items": null,
            "grid_row": null,
            "max_height": null,
            "align_content": null,
            "visibility": null,
            "align_self": null,
            "height": null,
            "min_height": null,
            "padding": null,
            "grid_auto_rows": null,
            "grid_gap": null,
            "max_width": null,
            "order": null,
            "_view_module_version": "1.2.0",
            "grid_template_areas": null,
            "object_position": null,
            "object_fit": null,
            "grid_auto_columns": null,
            "margin": null,
            "display": null,
            "left": null
          }
        },
        "316be2245a2a42b78a5862ff8d5ba37f": {
          "model_module": "@jupyter-widgets/base",
          "model_name": "LayoutModel",
          "model_module_version": "1.2.0",
          "state": {
            "_view_name": "LayoutView",
            "grid_template_rows": null,
            "right": null,
            "justify_content": null,
            "_view_module": "@jupyter-widgets/base",
            "overflow": null,
            "_model_module_version": "1.2.0",
            "_view_count": null,
            "flex_flow": null,
            "width": null,
            "min_width": null,
            "border": null,
            "align_items": null,
            "bottom": null,
            "_model_module": "@jupyter-widgets/base",
            "top": null,
            "grid_column": null,
            "overflow_y": null,
            "overflow_x": null,
            "grid_auto_flow": null,
            "grid_area": null,
            "grid_template_columns": null,
            "flex": null,
            "_model_name": "LayoutModel",
            "justify_items": null,
            "grid_row": null,
            "max_height": null,
            "align_content": null,
            "visibility": null,
            "align_self": null,
            "height": null,
            "min_height": null,
            "padding": null,
            "grid_auto_rows": null,
            "grid_gap": null,
            "max_width": null,
            "order": null,
            "_view_module_version": "1.2.0",
            "grid_template_areas": null,
            "object_position": null,
            "object_fit": null,
            "grid_auto_columns": null,
            "margin": null,
            "display": null,
            "left": null
          }
        }
      }
    }
  },
  "cells": [
    {
      "cell_type": "markdown",
      "metadata": {
        "id": "view-in-github",
        "colab_type": "text"
      },
      "source": [
        "<a href=\"https://colab.research.google.com/github/JRose31/NLP-WikiAPI/blob/main/NLP_WikiAPI.ipynb\" target=\"_parent\"><img src=\"https://colab.research.google.com/assets/colab-badge.svg\" alt=\"Open In Colab\"/></a>"
      ]
    },
    {
      "cell_type": "markdown",
      "metadata": {
        "id": "-6ivDQqYegov"
      },
      "source": [
        "## Problem Definition"
      ]
    },
    {
      "cell_type": "markdown",
      "metadata": {
        "id": "7ojO3Cio4HLa"
      },
      "source": [
        "Utilizing a dataset of text and wikipedias API, find celebrities that are similar any specified celebrity utilizing their cooresponding text."
      ]
    },
    {
      "cell_type": "markdown",
      "metadata": {
        "id": "gprJIYBnei13"
      },
      "source": [
        "## Collect/Load Data"
      ]
    },
    {
      "cell_type": "markdown",
      "metadata": {
        "id": "k2-7ZjFgttS5"
      },
      "source": [
        "Here, I'm mounting my drive in order to acess the data from this notebook."
      ]
    },
    {
      "cell_type": "code",
      "metadata": {
        "colab": {
          "base_uri": "https://localhost:8080/"
        },
        "id": "l2Z1K57ugN1X",
        "outputId": "8f8e5ef7-2e9c-49aa-9331-d6cca8878126"
      },
      "source": [
        "from google.colab import drive\n",
        "drive.mount('/drive')"
      ],
      "execution_count": 89,
      "outputs": [
        {
          "output_type": "stream",
          "name": "stdout",
          "text": [
            "Drive already mounted at /drive; to attempt to forcibly remount, call drive.mount(\"/drive\", force_remount=True).\n"
          ]
        }
      ]
    },
    {
      "cell_type": "markdown",
      "metadata": {
        "id": "rscrS_P4tL_G"
      },
      "source": [
        "I'll install the basic packages required to begin tackling a problem like this."
      ]
    },
    {
      "cell_type": "code",
      "metadata": {
        "id": "CRMZqgP-gSs5"
      },
      "source": [
        "import matplotlib.pyplot as plt\n",
        "import plotly.express as px\n",
        "import seaborn as sns\n",
        "import pandas as pd\n",
        "import numpy as np\n",
        "import re"
      ],
      "execution_count": 90,
      "outputs": []
    },
    {
      "cell_type": "markdown",
      "metadata": {
        "id": "4UUPf0cetZO9"
      },
      "source": [
        "Now I'll read in the dataset into a DataFrame."
      ]
    },
    {
      "cell_type": "code",
      "metadata": {
        "id": "OdXGy9vMfYOi",
        "colab": {
          "base_uri": "https://localhost:8080/",
          "height": 206
        },
        "outputId": "bcd193f9-3f74-4f4f-9998-8c32144b1d69"
      },
      "source": [
        "df = pd.read_csv('/drive/My Drive/Cohort_7/Projects/Project 4/Data/Project_4.csv')\n",
        "df.head()"
      ],
      "execution_count": 91,
      "outputs": [
        {
          "output_type": "execute_result",
          "data": {
            "text/html": [
              "<div>\n",
              "<style scoped>\n",
              "    .dataframe tbody tr th:only-of-type {\n",
              "        vertical-align: middle;\n",
              "    }\n",
              "\n",
              "    .dataframe tbody tr th {\n",
              "        vertical-align: top;\n",
              "    }\n",
              "\n",
              "    .dataframe thead th {\n",
              "        text-align: right;\n",
              "    }\n",
              "</style>\n",
              "<table border=\"1\" class=\"dataframe\">\n",
              "  <thead>\n",
              "    <tr style=\"text-align: right;\">\n",
              "      <th></th>\n",
              "      <th>URI</th>\n",
              "      <th>name</th>\n",
              "      <th>text</th>\n",
              "    </tr>\n",
              "  </thead>\n",
              "  <tbody>\n",
              "    <tr>\n",
              "      <th>0</th>\n",
              "      <td>&lt;http://dbpedia.org/resource/Digby_Morrell&gt;</td>\n",
              "      <td>Digby Morrell</td>\n",
              "      <td>digby morrell born 10 october 1979 is a former...</td>\n",
              "    </tr>\n",
              "    <tr>\n",
              "      <th>1</th>\n",
              "      <td>&lt;http://dbpedia.org/resource/Alfred_J._Lewy&gt;</td>\n",
              "      <td>Alfred J. Lewy</td>\n",
              "      <td>alfred j lewy aka sandy lewy graduated from un...</td>\n",
              "    </tr>\n",
              "    <tr>\n",
              "      <th>2</th>\n",
              "      <td>&lt;http://dbpedia.org/resource/Harpdog_Brown&gt;</td>\n",
              "      <td>Harpdog Brown</td>\n",
              "      <td>harpdog brown is a singer and harmonica player...</td>\n",
              "    </tr>\n",
              "    <tr>\n",
              "      <th>3</th>\n",
              "      <td>&lt;http://dbpedia.org/resource/Franz_Rottensteiner&gt;</td>\n",
              "      <td>Franz Rottensteiner</td>\n",
              "      <td>franz rottensteiner born in waidmannsfeld lowe...</td>\n",
              "    </tr>\n",
              "    <tr>\n",
              "      <th>4</th>\n",
              "      <td>&lt;http://dbpedia.org/resource/G-Enka&gt;</td>\n",
              "      <td>G-Enka</td>\n",
              "      <td>henry krvits born 30 december 1974 in tallinn ...</td>\n",
              "    </tr>\n",
              "  </tbody>\n",
              "</table>\n",
              "</div>"
            ],
            "text/plain": [
              "                                                 URI  ...                                               text\n",
              "0        <http://dbpedia.org/resource/Digby_Morrell>  ...  digby morrell born 10 october 1979 is a former...\n",
              "1       <http://dbpedia.org/resource/Alfred_J._Lewy>  ...  alfred j lewy aka sandy lewy graduated from un...\n",
              "2        <http://dbpedia.org/resource/Harpdog_Brown>  ...  harpdog brown is a singer and harmonica player...\n",
              "3  <http://dbpedia.org/resource/Franz_Rottensteiner>  ...  franz rottensteiner born in waidmannsfeld lowe...\n",
              "4               <http://dbpedia.org/resource/G-Enka>  ...  henry krvits born 30 december 1974 in tallinn ...\n",
              "\n",
              "[5 rows x 3 columns]"
            ]
          },
          "metadata": {},
          "execution_count": 91
        }
      ]
    },
    {
      "cell_type": "markdown",
      "metadata": {
        "id": "X8NvNYEcelWp"
      },
      "source": [
        "## Initial Exploration"
      ]
    },
    {
      "cell_type": "markdown",
      "metadata": {
        "id": "8QWVVrgb3oZG"
      },
      "source": [
        "With the dataset being fairly small, I wouldnt anticipate there being much to clean, but I'll still explore the data to know what cleaning it does need. "
      ]
    },
    {
      "cell_type": "markdown",
      "metadata": {
        "id": "jh4ycgWWpr-n"
      },
      "source": [
        "How many observations are in the dataset?"
      ]
    },
    {
      "cell_type": "code",
      "metadata": {
        "colab": {
          "base_uri": "https://localhost:8080/"
        },
        "id": "hOieQ37_owSF",
        "outputId": "9753df2d-256f-434e-eb1a-8b3097c39b83"
      },
      "source": [
        "df.shape"
      ],
      "execution_count": 92,
      "outputs": [
        {
          "output_type": "execute_result",
          "data": {
            "text/plain": [
              "(42786, 3)"
            ]
          },
          "metadata": {},
          "execution_count": 92
        }
      ]
    },
    {
      "cell_type": "markdown",
      "metadata": {
        "id": "I-H2d4jU4DVj"
      },
      "source": [
        "`42,786` observations are in this dataset. Now I'll check for any empty or null values."
      ]
    },
    {
      "cell_type": "code",
      "metadata": {
        "colab": {
          "base_uri": "https://localhost:8080/"
        },
        "id": "mazscP16p1lU",
        "outputId": "57136e84-704d-4f64-8b89-a9bd36b6731c"
      },
      "source": [
        "df.isnull().sum()"
      ],
      "execution_count": 93,
      "outputs": [
        {
          "output_type": "execute_result",
          "data": {
            "text/plain": [
              "URI     0\n",
              "name    0\n",
              "text    0\n",
              "dtype: int64"
            ]
          },
          "metadata": {},
          "execution_count": 93
        }
      ]
    },
    {
      "cell_type": "markdown",
      "metadata": {
        "id": "JZYf0yJPpu8d"
      },
      "source": [
        "It looks as if there aren't any null values in this dataset. What about duplicates?"
      ]
    },
    {
      "cell_type": "code",
      "metadata": {
        "colab": {
          "base_uri": "https://localhost:8080/"
        },
        "id": "Usvoh2WPpgSH",
        "outputId": "566aa9aa-0737-4c92-8b85-2c9603e3addc"
      },
      "source": [
        "uniques = []\n",
        "\n",
        "for idx, name in enumerate(df.name):\n",
        "  if name not in uniques:\n",
        "    uniques.append(name)\n",
        "  else:\n",
        "    print(idx, name)"
      ],
      "execution_count": 94,
      "outputs": [
        {
          "output_type": "stream",
          "name": "stdout",
          "text": [
            "17249 author)\n"
          ]
        }
      ]
    },
    {
      "cell_type": "markdown",
      "metadata": {
        "id": "IqoZd5M0vmY5"
      },
      "source": [
        "There's a duplicate of `'author)'` at index `17249`. I,ll get the index of its twin and visually inspect them."
      ]
    },
    {
      "cell_type": "code",
      "metadata": {
        "colab": {
          "base_uri": "https://localhost:8080/",
          "height": 112
        },
        "id": "VDSs0tAguWnV",
        "outputId": "f9f9ee03-8451-4ced-d888-d01adeece397"
      },
      "source": [
        "duplicates = []\n",
        "\n",
        "for idx, name in enumerate(df.name):\n",
        "  if 'author)' == name:\n",
        "    duplicates.append(idx)\n",
        "\n",
        "df.iloc[duplicates]"
      ],
      "execution_count": 95,
      "outputs": [
        {
          "output_type": "execute_result",
          "data": {
            "text/html": [
              "<div>\n",
              "<style scoped>\n",
              "    .dataframe tbody tr th:only-of-type {\n",
              "        vertical-align: middle;\n",
              "    }\n",
              "\n",
              "    .dataframe tbody tr th {\n",
              "        vertical-align: top;\n",
              "    }\n",
              "\n",
              "    .dataframe thead th {\n",
              "        text-align: right;\n",
              "    }\n",
              "</style>\n",
              "<table border=\"1\" class=\"dataframe\">\n",
              "  <thead>\n",
              "    <tr style=\"text-align: right;\">\n",
              "      <th></th>\n",
              "      <th>URI</th>\n",
              "      <th>name</th>\n",
              "      <th>text</th>\n",
              "    </tr>\n",
              "  </thead>\n",
              "  <tbody>\n",
              "    <tr>\n",
              "      <th>787</th>\n",
              "      <td>&lt;http://dbpedia.org/resource/James_Grieve_(tra...</td>\n",
              "      <td>author)</td>\n",
              "      <td>james grieve born 1934 is an australian transl...</td>\n",
              "    </tr>\n",
              "    <tr>\n",
              "      <th>17249</th>\n",
              "      <td>&lt;http://dbpedia.org/resource/Steve_Greenberg_(...</td>\n",
              "      <td>author)</td>\n",
              "      <td>steve greenberg december 20 1960 is an america...</td>\n",
              "    </tr>\n",
              "  </tbody>\n",
              "</table>\n",
              "</div>"
            ],
            "text/plain": [
              "                                                     URI  ...                                               text\n",
              "787    <http://dbpedia.org/resource/James_Grieve_(tra...  ...  james grieve born 1934 is an australian transl...\n",
              "17249  <http://dbpedia.org/resource/Steve_Greenberg_(...  ...  steve greenberg december 20 1960 is an america...\n",
              "\n",
              "[2 rows x 3 columns]"
            ]
          },
          "metadata": {},
          "execution_count": 95
        }
      ]
    },
    {
      "cell_type": "markdown",
      "metadata": {
        "id": "nx4NNPwe5Ez9"
      },
      "source": [
        "The names seem to be stored in the beginning of the text string. I'll deal with this in the next step, Data cleaning,"
      ]
    },
    {
      "cell_type": "markdown",
      "metadata": {
        "id": "n0osPtDJeov3"
      },
      "source": [
        "## Data Cleaning"
      ]
    },
    {
      "cell_type": "markdown",
      "metadata": {
        "id": "hr5qJSrKvurm"
      },
      "source": [
        "I'll start off by reassning the names for the duplicates to their respective celebrities."
      ]
    },
    {
      "cell_type": "code",
      "metadata": {
        "id": "hqb6Il3kvO6Z"
      },
      "source": [
        "df['name'].iloc[787], df['name'].iloc[17249] = 'James Grieve (author)', 'Steve Greenberg (author)'"
      ],
      "execution_count": 96,
      "outputs": []
    },
    {
      "cell_type": "markdown",
      "metadata": {
        "id": "Q3I0Aj8Ov07V"
      },
      "source": [
        "Now I'll deal with some of the messy text."
      ]
    },
    {
      "cell_type": "code",
      "metadata": {
        "colab": {
          "base_uri": "https://localhost:8080/",
          "height": 34
        },
        "id": "uiJP56CVt10N",
        "outputId": "8f47124f-4acf-425f-8450-b7e4e86c6b6d"
      },
      "source": [
        "df['name'].iloc[-2]"
      ],
      "execution_count": 97,
      "outputs": [
        {
          "output_type": "execute_result",
          "data": {
            "application/vnd.google.colaboratory.intrinsic+json": {
              "type": "string"
            },
            "text/plain": [
              "'Tatiana Faberg%C3%A9'"
            ]
          },
          "metadata": {},
          "execution_count": 97
        }
      ]
    },
    {
      "cell_type": "markdown",
      "metadata": {
        "id": "jtHerdBBvB-x"
      },
      "source": [
        "With the above serving as an example, I'll use regular expressions to get rid of the `'%C3%A9'` and similar string patterns from the names in the `name` column."
      ]
    },
    {
      "cell_type": "code",
      "metadata": {
        "id": "ZRPdKbXjddyR"
      },
      "source": [
        "import re\n",
        "\n",
        "df['name'] = df['name'].str.replace(r'(%\\w\\w)', '')"
      ],
      "execution_count": 98,
      "outputs": []
    },
    {
      "cell_type": "code",
      "metadata": {
        "id": "uNhv0fX85ivP",
        "colab": {
          "base_uri": "https://localhost:8080/",
          "height": 34
        },
        "outputId": "f1991736-32e9-4ea1-d5f9-fbbb9ffb888d"
      },
      "source": [
        "df['name'].iloc[-2]"
      ],
      "execution_count": 99,
      "outputs": [
        {
          "output_type": "execute_result",
          "data": {
            "application/vnd.google.colaboratory.intrinsic+json": {
              "type": "string"
            },
            "text/plain": [
              "'Tatiana Faberg'"
            ]
          },
          "metadata": {},
          "execution_count": 99
        }
      ]
    },
    {
      "cell_type": "markdown",
      "metadata": {
        "id": "JWSeTQz95jAe"
      },
      "source": [
        "With the data cleaned, I'll process it and fit a NearestNeighbors model with it."
      ]
    },
    {
      "cell_type": "markdown",
      "metadata": {
        "id": "t2F15uPofFIf"
      },
      "source": [
        "## Data Processing"
      ]
    },
    {
      "cell_type": "markdown",
      "metadata": {
        "id": "QpgVsEpH5xS5"
      },
      "source": [
        "First I'll import the libraries used to further clean the text and get in processed."
      ]
    },
    {
      "cell_type": "code",
      "metadata": {
        "id": "Hbyxa2McxMGw"
      },
      "source": [
        "from textblob import TextBlob\n",
        "from sklearn.feature_extraction.text import CountVectorizer\n",
        "from sklearn.feature_extraction.text import TfidfVectorizer\n",
        "from sklearn.feature_extraction.text import TfidfTransformer\n",
        "from sklearn.neighbors import NearestNeighbors"
      ],
      "execution_count": 100,
      "outputs": []
    },
    {
      "cell_type": "markdown",
      "metadata": {
        "id": "bucUvIUW6JuA"
      },
      "source": [
        "I'm using `CountVectorizer` to further clean the data and then performing a TF IDF tranformation on all of the text."
      ]
    },
    {
      "cell_type": "code",
      "metadata": {
        "id": "3yOBu3ak5lYm"
      },
      "source": [
        "# Clean and vectorize text\n",
        "vectorizer = CountVectorizer(stop_words='english')\n",
        "bow_vec = vectorizer.fit_transform(list(df['text']))\n",
        "\n",
        "# Perform TF IDF transformation\n",
        "tf_idf_tran = TfidfTransformer()\n",
        "tf_idf_sent = tf_idf_tran.fit_transform(bow_vec)"
      ],
      "execution_count": 101,
      "outputs": []
    },
    {
      "cell_type": "markdown",
      "metadata": {
        "id": "tJE0eOts6msp"
      },
      "source": [
        "Using the TF IDF sparse matrix, I'll fit a NearestNeighbors model."
      ]
    },
    {
      "cell_type": "code",
      "metadata": {
        "id": "yJV5PL3f3hTs"
      },
      "source": [
        "nn = NearestNeighbors().fit(tf_idf_sent)"
      ],
      "execution_count": 102,
      "outputs": []
    },
    {
      "cell_type": "markdown",
      "metadata": {
        "id": "CzNntS2d8cNP"
      },
      "source": [
        "For this example, I'm using Jim Carrey. I'll take a look at his word cloud before moving on to find his nearest nieghbors."
      ]
    },
    {
      "cell_type": "code",
      "metadata": {
        "colab": {
          "base_uri": "https://localhost:8080/",
          "height": 198
        },
        "id": "PYSgyCtc8ych",
        "outputId": "1cd3cd4f-d8d8-4677-bfa8-adabf3e8accc"
      },
      "source": [
        "# https://www.datacamp.com/community/tutorials/wordcloud-python\n",
        "from PIL import Image\n",
        "from wordcloud import WordCloud, STOPWORDS, ImageColorGenerator\n",
        "\n",
        "text = df['text'].iloc[42473]\n",
        "\n",
        "# Create and generate a word cloud image:\n",
        "wordcloud = WordCloud().generate(text)\n",
        "\n",
        "# Display the generated image:\n",
        "plt.imshow(wordcloud, interpolation='bilinear')\n",
        "plt.axis(\"off\")\n",
        "plt.show()"
      ],
      "execution_count": 103,
      "outputs": [
        {
          "output_type": "display_data",
          "data": {
            "image/png": "[encoded data removed]",
            "text/plain": [
              "<Figure size 432x288 with 1 Axes>"
            ]
          },
          "metadata": {
            "needs_background": "light"
          }
        }
      ]
    },
    {
      "cell_type": "markdown",
      "metadata": {
        "id": "XSHMw-G96vlQ"
      },
      "source": [
        "Using actor `Jim Carrey` at index `42473` as a test, I'm passing his index at the sparse matrix to my NearestNeighbors model to see what it predicts as being the 10 closest cleberities based on the test."
      ]
    },
    {
      "cell_type": "code",
      "metadata": {
        "id": "YrLXTF-iA5GB",
        "colab": {
          "base_uri": "https://localhost:8080/"
        },
        "outputId": "ea461c7c-695d-4d8c-dc52-eebc294e04e1"
      },
      "source": [
        "# Get nearest neighbors distances\n",
        "sen = tf_idf_sent[42473,:]\n",
        "distances, indices = nn.kneighbors(sen, n_neighbors = 10)\n",
        "\n",
        "df['name'].iloc[indices[0]]"
      ],
      "execution_count": 104,
      "outputs": [
        {
          "output_type": "execute_result",
          "data": {
            "text/plain": [
              "42473       Jim Carrey\n",
              "28070        Amy Adams\n",
              "1657      Jeff Daniels\n",
              "24417    Jesse Ventura\n",
              "38372      Liam Neeson\n",
              "19009    James Nesbitt\n",
              "33224      Ben Affleck\n",
              "2521     Alfre Woodard\n",
              "19582     Viveka Davis\n",
              "11156    Anne Hathaway\n",
              "Name: name, dtype: object"
            ]
          },
          "metadata": {},
          "execution_count": 104
        }
      ]
    },
    {
      "cell_type": "markdown",
      "metadata": {
        "id": "I6csk8PL7QKi"
      },
      "source": [
        "Recognizing some of these celebrity names, the model is working. However, I'll go further in increasing the accuracy of these predictions by utilzing a full page of wikipedia text as opposed to the short snippets provided in the dataset.\n",
        "\n",
        "First I'll install Wikipedias API."
      ]
    },
    {
      "cell_type": "code",
      "metadata": {
        "colab": {
          "base_uri": "https://localhost:8080/"
        },
        "id": "-7lo96R8sS59",
        "outputId": "6598e8c8-dfa8-4b1b-8c3c-944760f3389c"
      },
      "source": [
        "#install Wikipedia API\n",
        "!pip3 install wikipedia-api"
      ],
      "execution_count": 105,
      "outputs": [
        {
          "output_type": "stream",
          "name": "stdout",
          "text": [
            "Requirement already satisfied: wikipedia-api in /usr/local/lib/python3.7/dist-packages (0.5.4)\n",
            "Requirement already satisfied: requests in /usr/local/lib/python3.7/dist-packages (from wikipedia-api) (2.23.0)\n",
            "Requirement already satisfied: idna<3,>=2.5 in /usr/local/lib/python3.7/dist-packages (from requests->wikipedia-api) (2.10)\n",
            "Requirement already satisfied: certifi>=2017.4.17 in /usr/local/lib/python3.7/dist-packages (from requests->wikipedia-api) (2021.10.8)\n",
            "Requirement already satisfied: chardet<4,>=3.0.2 in /usr/local/lib/python3.7/dist-packages (from requests->wikipedia-api) (3.0.4)\n",
            "Requirement already satisfied: urllib3!=1.25.0,!=1.25.1,<1.26,>=1.21.1 in /usr/local/lib/python3.7/dist-packages (from requests->wikipedia-api) (1.24.3)\n"
          ]
        }
      ]
    },
    {
      "cell_type": "markdown",
      "metadata": {
        "id": "C2irjgG18TNc"
      },
      "source": [
        "Next, I'll create a new DataFrame with the wikipedia text."
      ]
    },
    {
      "cell_type": "code",
      "metadata": {
        "colab": {
          "base_uri": "https://localhost:8080/",
          "height": 362
        },
        "id": "UHTyTpi-tB0D",
        "outputId": "0ddcbc20-6429-4ca3-aa40-adbab9b79d2b"
      },
      "source": [
        "import wikipediaapi\n",
        "\n",
        "# Create DataFrame for wikipedia text of nearest neighbors\n",
        "full_wiki_df = pd.DataFrame({'Name':list(df['name'].iloc[indices[0]])})\n",
        "\n",
        "def getWiki(name):\n",
        "  wikip = wikipediaapi.Wikipedia('en')\n",
        "  page_ex = wikip.page(name)\n",
        "  return page_ex.text\n",
        "\n",
        "# Get wiki text for each celebrity and save in new column 'Text'\n",
        "full_wiki_df['Text'] = full_wiki_df['Name'].apply(lambda name: getWiki(name))\n",
        "\n",
        "full_wiki_df"
      ],
      "execution_count": 106,
      "outputs": [
        {
          "output_type": "execute_result",
          "data": {
            "text/html": [
              "<div>\n",
              "<style scoped>\n",
              "    .dataframe tbody tr th:only-of-type {\n",
              "        vertical-align: middle;\n",
              "    }\n",
              "\n",
              "    .dataframe tbody tr th {\n",
              "        vertical-align: top;\n",
              "    }\n",
              "\n",
              "    .dataframe thead th {\n",
              "        text-align: right;\n",
              "    }\n",
              "</style>\n",
              "<table border=\"1\" class=\"dataframe\">\n",
              "  <thead>\n",
              "    <tr style=\"text-align: right;\">\n",
              "      <th></th>\n",
              "      <th>Name</th>\n",
              "      <th>Text</th>\n",
              "    </tr>\n",
              "  </thead>\n",
              "  <tbody>\n",
              "    <tr>\n",
              "      <th>0</th>\n",
              "      <td>Jim Carrey</td>\n",
              "      <td>James Eugene Carrey (born January 17, 1962) is...</td>\n",
              "    </tr>\n",
              "    <tr>\n",
              "      <th>1</th>\n",
              "      <td>Amy Adams</td>\n",
              "      <td>Amy Lou Adams (born August 20, 1974) is an Ame...</td>\n",
              "    </tr>\n",
              "    <tr>\n",
              "      <th>2</th>\n",
              "      <td>Jeff Daniels</td>\n",
              "      <td>Jeffrey Warren Daniels (born February 19, 1955...</td>\n",
              "    </tr>\n",
              "    <tr>\n",
              "      <th>3</th>\n",
              "      <td>Jesse Ventura</td>\n",
              "      <td>Jesse Ventura (born James George Janos; July 1...</td>\n",
              "    </tr>\n",
              "    <tr>\n",
              "      <th>4</th>\n",
              "      <td>Liam Neeson</td>\n",
              "      <td>William John Neeson  (born 7 June 1952) is an ...</td>\n",
              "    </tr>\n",
              "    <tr>\n",
              "      <th>5</th>\n",
              "      <td>James Nesbitt</td>\n",
              "      <td>William James Nesbitt  (born 15 January 1965) ...</td>\n",
              "    </tr>\n",
              "    <tr>\n",
              "      <th>6</th>\n",
              "      <td>Ben Affleck</td>\n",
              "      <td>Benjamin Géza Affleck-Boldt (born August 15, 1...</td>\n",
              "    </tr>\n",
              "    <tr>\n",
              "      <th>7</th>\n",
              "      <td>Alfre Woodard</td>\n",
              "      <td>Alfre Woodard (; born November 8, 1952) is an ...</td>\n",
              "    </tr>\n",
              "    <tr>\n",
              "      <th>8</th>\n",
              "      <td>Viveka Davis</td>\n",
              "      <td>Viveka Davis (born August 19, 1969) is an Amer...</td>\n",
              "    </tr>\n",
              "    <tr>\n",
              "      <th>9</th>\n",
              "      <td>Anne Hathaway</td>\n",
              "      <td>Anne Jacqueline Hathaway (born November 12, 19...</td>\n",
              "    </tr>\n",
              "  </tbody>\n",
              "</table>\n",
              "</div>"
            ],
            "text/plain": [
              "            Name                                               Text\n",
              "0     Jim Carrey  James Eugene Carrey (born January 17, 1962) is...\n",
              "1      Amy Adams  Amy Lou Adams (born August 20, 1974) is an Ame...\n",
              "2   Jeff Daniels  Jeffrey Warren Daniels (born February 19, 1955...\n",
              "3  Jesse Ventura  Jesse Ventura (born James George Janos; July 1...\n",
              "4    Liam Neeson  William John Neeson  (born 7 June 1952) is an ...\n",
              "5  James Nesbitt  William James Nesbitt  (born 15 January 1965) ...\n",
              "6    Ben Affleck  Benjamin Géza Affleck-Boldt (born August 15, 1...\n",
              "7  Alfre Woodard  Alfre Woodard (; born November 8, 1952) is an ...\n",
              "8   Viveka Davis  Viveka Davis (born August 19, 1969) is an Amer...\n",
              "9  Anne Hathaway  Anne Jacqueline Hathaway (born November 12, 19..."
            ]
          },
          "metadata": {},
          "execution_count": 106
        }
      ]
    },
    {
      "cell_type": "markdown",
      "metadata": {
        "id": "plFpFUPF71Qn"
      },
      "source": [
        "Now I'll use the nearest neighbors to the actor `Jim Carrey` and see what order my model puts them based on their entire wikipedia text."
      ]
    },
    {
      "cell_type": "code",
      "metadata": {
        "colab": {
          "base_uri": "https://localhost:8080/"
        },
        "id": "7OkFs6oUsOYI",
        "outputId": "295f50c1-6c6c-4f1e-b1d9-75dd4dd8b93e"
      },
      "source": [
        "vectorizer = CountVectorizer(stop_words='english')\n",
        "bow_vec = vectorizer.fit_transform(list(full_wiki_df['Text']))\n",
        "\n",
        "tf_idf_tran = TfidfTransformer()\n",
        "tf_idf_sent = tf_idf_tran.fit_transform(bow_vec)\n",
        "\n",
        "nn = NearestNeighbors().fit(tf_idf_sent)\n",
        "\n",
        "# Get nearest neighbors distances\n",
        "sen = tf_idf_sent[0,:]\n",
        "distances, indices = nn.kneighbors(sen, n_neighbors = 10)\n",
        "\n",
        "full_wiki_df['Name'].iloc[indices[0]]"
      ],
      "execution_count": 107,
      "outputs": [
        {
          "output_type": "execute_result",
          "data": {
            "text/plain": [
              "0       Jim Carrey\n",
              "2     Jeff Daniels\n",
              "9    Anne Hathaway\n",
              "7    Alfre Woodard\n",
              "1        Amy Adams\n",
              "4      Liam Neeson\n",
              "3    Jesse Ventura\n",
              "5    James Nesbitt\n",
              "8     Viveka Davis\n",
              "6      Ben Affleck\n",
              "Name: Name, dtype: object"
            ]
          },
          "metadata": {},
          "execution_count": 107
        }
      ]
    },
    {
      "cell_type": "markdown",
      "metadata": {
        "id": "tXcZtn4V8ePa"
      },
      "source": [
        "Looking at the index column, the orders did change and so the full wikipedia text did have an influence in the prediction this time.\n",
        "\n",
        "---\n",
        "\n",
        "Now I'm creating an interface which provides more insight into the celebrities through displaying the results of the sentiment analysis visually.."
      ]
    },
    {
      "cell_type": "markdown",
      "metadata": {
        "id": "lzW9oong0dop"
      },
      "source": [
        "## Prac-App"
      ]
    },
    {
      "cell_type": "markdown",
      "metadata": {
        "id": "OYoofG1eGH7w"
      },
      "source": [
        "Again, first I'll initialize a NearestNeighbors models and fit it with the text current text data to get the first `n` nearest neighbors to the specified celebrity."
      ]
    },
    {
      "cell_type": "code",
      "metadata": {
        "id": "Yln--iBPvbKr"
      },
      "source": [
        "init_vectorizer = CountVectorizer(stop_words='english')\n",
        "init_bow_vec = init_vectorizer.fit_transform(list(df['text']))\n",
        "\n",
        "init_tf_idf_tran = TfidfTransformer()\n",
        "init_tf_idf_sent = init_tf_idf_tran.fit_transform(init_bow_vec)\n",
        "\n",
        "init_nn = NearestNeighbors().fit(init_tf_idf_sent)"
      ],
      "execution_count": 108,
      "outputs": []
    },
    {
      "cell_type": "markdown",
      "metadata": {
        "id": "wiD1gEcFGqas"
      },
      "source": [
        "Now I'll use the arguments of a celebrity name and `n` nearest neighbors to apply NLP to the wikipedia text to that celebrities `n` nearest neighbors and get an even more accurate order of those `n` celebrities."
      ]
    },
    {
      "cell_type": "code",
      "metadata": {
        "colab": {
          "base_uri": "https://localhost:8080/",
          "height": 933,
          "referenced_widgets": [
            "70468c91abe549618006952dbea7d9ac",
            "1a307add33634fee82f175c05da235f3",
            "f40cd412616846a6957b127b384f8c5a",
            "54c4d801581049cbbc393ffb95b53286",
            "6ef400a02dc344488016c19a6e253431",
            "20b95bb5f3f54127a511c7ebeab0b9c7",
            "9817518538ec4f5c93a4e7286fd3339f",
            "a7bb0a77e9ca4a3aa685ea2f39d275f0",
            "5724720a4e30456b9fec6dbcd299c4cc",
            "316be2245a2a42b78a5862ff8d5ba37f"
          ]
        },
        "id": "Y5Otzb9Lyksg",
        "outputId": "5ceb2f95-0dc6-4871-84ea-548565b48429"
      },
      "source": [
        "from sklearn.preprocessing import MinMaxScaler\n",
        "from ipywidgets import interact, interactive, fixed\n",
        "import ipywidgets as widgets\n",
        "\n",
        "def nearestCeleb(n, new_name = 'Jim Carrey'):\n",
        "  print(f'Matching people like {new_name}...')\n",
        "\n",
        "  # Still get last person in range specified\n",
        "  n = n+1\n",
        "\n",
        "  # Get index of specified celebrity\n",
        "  idx = 0\n",
        "  for i, v in enumerate(df['name']):\n",
        "    if v == new_name:\n",
        "      idx = idx+i\n",
        "\n",
        "  # Get n nearest neighbors\n",
        "  sen = init_tf_idf_sent[idx,:]\n",
        "  distances, indices = init_nn.kneighbors(sen, n_neighbors = n)\n",
        "\n",
        "  # Create DataFrame with wikipedia text\n",
        "  wiki_df = pd.DataFrame({'Matches':list(df['name'].iloc[indices[0]])})\n",
        "  wiki_df['Text'] = wiki_df['Matches'].apply(lambda name: getWiki(name))\n",
        "\n",
        "  # Clean wikipedia text\n",
        "  vectorizer = CountVectorizer(stop_words='english')\n",
        "  bow_vec = vectorizer.fit_transform(list(wiki_df['Text']))\n",
        "\n",
        "  # Perform TF IDF tranfromation\n",
        "  tf_idf_tran = TfidfTransformer()\n",
        "  tf_idf_sent = tf_idf_tran.fit_transform(bow_vec)\n",
        "\n",
        "  # Fit sparse matrix into NearestNeighbors model\n",
        "  nn = NearestNeighbors().fit(tf_idf_sent)\n",
        "\n",
        "  # Get nearest neighbors indices\n",
        "  sen = tf_idf_sent[0,:]\n",
        "  distances, indices = nn.kneighbors(sen, n_neighbors = n)\n",
        "  print('Match complete.')\n",
        "\n",
        "  # Perfrom sentiment analysis on all text of nearest neighbors\n",
        "  wiki_df['Text'] = wiki_df['Text'].apply(lambda x: list(TextBlob(x).sentiment))\n",
        "\n",
        "  # Scale polarity and subjectivity scores for plotting\n",
        "  scaler = MinMaxScaler()\n",
        "  wiki_df['Text'].apply(lambda x: scaler.fit([x]))\n",
        "  wiki_df['Text'].apply(lambda x: scaler.transform([x]))\n",
        "\n",
        "  # Output nearest neighbors and their sentiment analysis\n",
        "  for i in range(n-1):\n",
        "    test = wiki_df['Text'].iloc[i]\n",
        "    name = wiki_df['Matches'].iloc[i]\n",
        "\n",
        "    test\n",
        "\n",
        "    fig, ax = plt.subplots(figsize=(4, .6))\n",
        "    ax.barh('Polarity', test[0], height=0.7, align='center')\n",
        "    ax.barh('Subjectivity', test[1], height=0.7, align='center')\n",
        "    ax.set_xlim([0, 1])\n",
        "    ax.set_title(name);\n",
        "\n",
        "interact(nearestCeleb, n=widgets.IntSlider(min=1,max=20,step=1,value=10))\n"
      ],
      "execution_count": 109,
      "outputs": [
        {
          "output_type": "display_data",
          "data": {
            "application/vnd.jupyter.widget-view+json": {
              "model_id": "70468c91abe549618006952dbea7d9ac",
              "version_minor": 0,
              "version_major": 2
            },
            "text/plain": [
              "interactive(children=(IntSlider(value=10, description='n', max=20, min=1), Text(value='Jim Carrey', descriptio…"
            ]
          },
          "metadata": {}
        },
        {
          "output_type": "execute_result",
          "data": {
            "text/plain": [
              "<function __main__.nearestCeleb>"
            ]
          },
          "metadata": {},
          "execution_count": 109
        }
      ]
    },
    {
      "cell_type": "markdown",
      "metadata": {
        "id": "66dMjoUGIh8d"
      },
      "source": [
        "## References"
      ]
    },
    {
      "cell_type": "markdown",
      "metadata": {
        "id": "dUvqAgOZ3K1b"
      },
      "source": [
        "* https://www.datacamp.com/community/tutorials/wordcloud-python\n",
        "* https://docs.python.org/3/library/re.html\n",
        "* https://www.mediawiki.org/wiki/API:Main_page"
      ]
    }
  ]
}